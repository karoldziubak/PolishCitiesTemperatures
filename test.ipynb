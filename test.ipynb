{
 "cells": [
  {
   "cell_type": "code",
   "execution_count": 2,
   "metadata": {},
   "outputs": [],
   "source": [
    "import pandas as pd\n",
    "import os\n",
    "from utils import col_names\n",
    "from functions import calc_hot_days\n",
    "\n",
    "directory = 'data\\src\\s_d_100_2022.csv'\n",
    "temp_threshold = 25"
   ]
  },
  {
   "cell_type": "code",
   "execution_count": 6,
   "metadata": {},
   "outputs": [],
   "source": [
    "df = pd.read_csv(directory, encoding=\"windows-1250\", sep=',', engine='c', header=None)\n"
   ]
  },
  {
   "cell_type": "code",
   "execution_count": 7,
   "metadata": {},
   "outputs": [
    {
     "ename": "AttributeError",
     "evalue": "'DataFrame' object has no attribute 'dupa'",
     "output_type": "error",
     "traceback": [
      "\u001b[1;31m---------------------------------------------------------------------------\u001b[0m",
      "\u001b[1;31mAttributeError\u001b[0m                            Traceback (most recent call last)",
      "Cell \u001b[1;32mIn[7], line 2\u001b[0m\n\u001b[0;32m      1\u001b[0m df \u001b[39m=\u001b[39m pd\u001b[39m.\u001b[39mread_csv(directory, encoding\u001b[39m=\u001b[39m\u001b[39m\"\u001b[39m\u001b[39mwindows-1250\u001b[39m\u001b[39m\"\u001b[39m, sep\u001b[39m=\u001b[39m\u001b[39m'\u001b[39m\u001b[39m,\u001b[39m\u001b[39m'\u001b[39m, engine\u001b[39m=\u001b[39m\u001b[39m'\u001b[39m\u001b[39mc\u001b[39m\u001b[39m'\u001b[39m, header\u001b[39m=\u001b[39m\u001b[39mNone\u001b[39;00m)\n\u001b[1;32m----> 2\u001b[0m \u001b[39mprint\u001b[39m(calc_hot_days(df,temp_threshold))\n\u001b[0;32m      4\u001b[0m \u001b[39mprint\u001b[39m((df[df[\u001b[39m5\u001b[39m]\u001b[39m>\u001b[39mtemp_threshold]))\n",
      "Cell \u001b[1;32mIn[6], line 5\u001b[0m, in \u001b[0;36mcalc_hot_days\u001b[1;34m(df, temp)\u001b[0m\n\u001b[0;32m      1\u001b[0m \u001b[39mdef\u001b[39;00m \u001b[39mcalc_hot_days\u001b[39m(df:pd\u001b[39m.\u001b[39mDataFrame,temp:\u001b[39mfloat\u001b[39m)\u001b[39m-\u001b[39m\u001b[39m>\u001b[39m\u001b[39mint\u001b[39m:\n\u001b[0;32m      2\u001b[0m     \u001b[39m# wyciagnac kolumne 'max temp'\u001b[39;00m\n\u001b[0;32m      3\u001b[0m \n\u001b[0;32m      4\u001b[0m     \u001b[39m# zrobic liste z zerami i jedynkami, w zaleznosci czy jest powyzej temp, czy nie\u001b[39;00m\n\u001b[1;32m----> 5\u001b[0m     df\u001b[39m.\u001b[39;49mdupa\n\u001b[0;32m      6\u001b[0m     \u001b[39m#zliczasz ilość 1 w serii\u001b[39;00m\n\u001b[0;32m      7\u001b[0m     \u001b[39m# [1,1,0,0,0,1,1,1,1,0]\u001b[39;00m\n\u001b[0;32m      8\u001b[0m     \u001b[39m# [1,2,0,0,0,1,2,3,4,0]\u001b[39;00m\n\u001b[0;32m      9\u001b[0m \n\u001b[0;32m     10\u001b[0m     \u001b[39m#zwracasz największą liczbę z drugiej listy\u001b[39;00m\n\u001b[0;32m     11\u001b[0m     \u001b[39mreturn\u001b[39;00m \u001b[39m0\u001b[39m\n",
      "File \u001b[1;32m~\\AppData\\Roaming\\Python\\Python310\\site-packages\\pandas\\core\\generic.py:5989\u001b[0m, in \u001b[0;36mNDFrame.__getattr__\u001b[1;34m(self, name)\u001b[0m\n\u001b[0;32m   5982\u001b[0m \u001b[39mif\u001b[39;00m (\n\u001b[0;32m   5983\u001b[0m     name \u001b[39mnot\u001b[39;00m \u001b[39min\u001b[39;00m \u001b[39mself\u001b[39m\u001b[39m.\u001b[39m_internal_names_set\n\u001b[0;32m   5984\u001b[0m     \u001b[39mand\u001b[39;00m name \u001b[39mnot\u001b[39;00m \u001b[39min\u001b[39;00m \u001b[39mself\u001b[39m\u001b[39m.\u001b[39m_metadata\n\u001b[0;32m   5985\u001b[0m     \u001b[39mand\u001b[39;00m name \u001b[39mnot\u001b[39;00m \u001b[39min\u001b[39;00m \u001b[39mself\u001b[39m\u001b[39m.\u001b[39m_accessors\n\u001b[0;32m   5986\u001b[0m     \u001b[39mand\u001b[39;00m \u001b[39mself\u001b[39m\u001b[39m.\u001b[39m_info_axis\u001b[39m.\u001b[39m_can_hold_identifiers_and_holds_name(name)\n\u001b[0;32m   5987\u001b[0m ):\n\u001b[0;32m   5988\u001b[0m     \u001b[39mreturn\u001b[39;00m \u001b[39mself\u001b[39m[name]\n\u001b[1;32m-> 5989\u001b[0m \u001b[39mreturn\u001b[39;00m \u001b[39mobject\u001b[39;49m\u001b[39m.\u001b[39;49m\u001b[39m__getattribute__\u001b[39;49m(\u001b[39mself\u001b[39;49m, name)\n",
      "\u001b[1;31mAttributeError\u001b[0m: 'DataFrame' object has no attribute 'dupa'"
     ]
    }
   ],
   "source": [
    "print(calc_hot_days(df,temp_threshold))\n",
    "\n",
    "print((df[df[5]>temp_threshold]))"
   ]
  }
 ],
 "metadata": {
  "kernelspec": {
   "display_name": "Python 3",
   "language": "python",
   "name": "python3"
  },
  "language_info": {
   "codemirror_mode": {
    "name": "ipython",
    "version": 3
   },
   "file_extension": ".py",
   "mimetype": "text/x-python",
   "name": "python",
   "nbconvert_exporter": "python",
   "pygments_lexer": "ipython3",
   "version": "3.10.11"
  },
  "orig_nbformat": 4
 },
 "nbformat": 4,
 "nbformat_minor": 2
}
