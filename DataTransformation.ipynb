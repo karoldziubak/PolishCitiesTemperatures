{
 "cells": [
  {
   "cell_type": "code",
   "execution_count": 1,
   "metadata": {},
   "outputs": [],
   "source": [
    "import pandas as pd\n",
    "import os\n",
    "from utils import col_names\n",
    "from functions import calc_hot_days\n",
    "\n",
    "directory = 'data\\src'\n",
    "temp_threshold = 30\n",
    "max_hot_days_streak=[]\n",
    "for filename in os.listdir(directory):\n",
    "    f = os.path.join(directory, filename).replace(\"\\\\\",\"/\")\n",
    "    df = pd.read_csv(f, encoding=\"windows-1250\", sep=',', engine='c', header=None)\n",
    "    max_hot_days_streak.append(calc_hot_days(df,temp_threshold))\n",
    "\n",
    "# df = df.rename({0:\"station_code\", 1:\"station_name\"}, axis=1)\n"
   ]
  },
  {
   "cell_type": "code",
   "execution_count": 2,
   "metadata": {},
   "outputs": [
    {
     "name": "stdout",
     "output_type": "stream",
     "text": [
      "['station_code', 'station_name', 'year', 'month', 'day', 'temp_max', '-', 'temp_min', '-', 'temp_av', '-', '-', '-', '-', '-', '-', '-', '-', '-', '-', '-', '-', '-', '-', '-', '-', '-', '-', '-', '-', '-', '-', '-', '-', '-', '-', '-', '-', '-', '-', '-', '-', '-', '-', '-', '-', '-', '-', '-', '-', '-', '-', '-', '-', '-', '-', '-', '-', '-', '-', '-', '-', '-', '-', '-']\n"
     ]
    }
   ],
   "source": [
    "print(col_names)"
   ]
  }
 ],
 "metadata": {
  "kernelspec": {
   "display_name": "Python 3",
   "language": "python",
   "name": "python3"
  },
  "language_info": {
   "codemirror_mode": {
    "name": "ipython",
    "version": 3
   },
   "file_extension": ".py",
   "mimetype": "text/x-python",
   "name": "python",
   "nbconvert_exporter": "python",
   "pygments_lexer": "ipython3",
   "version": "3.10.5"
  },
  "orig_nbformat": 4
 },
 "nbformat": 4,
 "nbformat_minor": 2
}
