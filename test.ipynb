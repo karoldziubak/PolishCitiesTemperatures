{
 "cells": [
  {
   "cell_type": "code",
   "execution_count": 19,
   "metadata": {},
   "outputs": [
    {
     "name": "stdout",
     "output_type": "stream",
     "text": [
      "0\n",
      "            0                    1     2   3   4     5   6     7   8     9   \\\n",
      "138  354150100  KOŁOBRZEG-DŹWIRZYNO  2022   5  19  27.9 NaN  13.1 NaN  20.7   \n",
      "168  354150100  KOŁOBRZEG-DŹWIRZYNO  2022   6  18  29.1 NaN  16.0 NaN  19.8   \n",
      "174  354150100  KOŁOBRZEG-DŹWIRZYNO  2022   6  24  29.8 NaN  13.1 NaN  22.6   \n",
      "175  354150100  KOŁOBRZEG-DŹWIRZYNO  2022   6  25  27.2 NaN  17.7 NaN  21.6   \n",
      "176  354150100  KOŁOBRZEG-DŹWIRZYNO  2022   6  26  27.7 NaN  19.3 NaN  23.0   \n",
      "177  354150100  KOŁOBRZEG-DŹWIRZYNO  2022   6  27  33.9 NaN  20.3 NaN  27.4   \n",
      "178  354150100  KOŁOBRZEG-DŹWIRZYNO  2022   6  28  29.6 NaN  17.6 NaN  18.8   \n",
      "183  354150100  KOŁOBRZEG-DŹWIRZYNO  2022   7   3  26.1 NaN  13.1 NaN  20.1   \n",
      "200  354150100  KOŁOBRZEG-DŹWIRZYNO  2022   7  20  25.7 NaN  14.9 NaN  21.4   \n",
      "201  354150100  KOŁOBRZEG-DŹWIRZYNO  2022   7  21  33.5 NaN  21.0 NaN  25.1   \n",
      "205  354150100  KOŁOBRZEG-DŹWIRZYNO  2022   7  25  31.2 NaN  15.9 NaN  23.8   \n",
      "206  354150100  KOŁOBRZEG-DŹWIRZYNO  2022   7  26  28.9 NaN  16.6 NaN  18.7   \n",
      "214  354150100  KOŁOBRZEG-DŹWIRZYNO  2022   8   3  28.2 NaN  16.3 NaN  22.5   \n",
      "215  354150100  KOŁOBRZEG-DŹWIRZYNO  2022   8   4  34.6 NaN  19.0 NaN  27.6   \n",
      "216  354150100  KOŁOBRZEG-DŹWIRZYNO  2022   8   5  31.2 NaN  18.5 NaN  21.8   \n",
      "226  354150100  KOŁOBRZEG-DŹWIRZYNO  2022   8  15  26.1 NaN  17.7 NaN  20.5   \n",
      "227  354150100  KOŁOBRZEG-DŹWIRZYNO  2022   8  16  25.1 NaN  17.5 NaN  21.5   \n",
      "229  354150100  KOŁOBRZEG-DŹWIRZYNO  2022   8  18  29.8 NaN  18.9 NaN  22.5   \n",
      "230  354150100  KOŁOBRZEG-DŹWIRZYNO  2022   8  19  25.7 NaN  17.6 NaN  20.5   \n",
      "\n",
      "     ...  55  56   57  58  59   60  61   62  63  64  \n",
      "138  ... NaN   0  8.0   R   0  9.0   0  9.0   0   8  \n",
      "168  ... NaN   0  8.0   R   0  9.0   0  9.0   0   8  \n",
      "174  ... NaN   0  8.0   R   0  9.0   0  9.0   0   8  \n",
      "175  ... NaN   0  8.0   R   0  9.0   0  9.0   0   8  \n",
      "176  ... NaN   0  8.0   R   0  9.0   0  9.0   0   8  \n",
      "177  ... NaN   0  8.0   R   0  9.0   0  9.0   0   8  \n",
      "178  ... NaN   0  8.0   R   0  9.0   0  9.0   0   8  \n",
      "183  ... NaN   0  8.0   R   0  9.0   0  9.0   0   8  \n",
      "200  ... NaN   0  8.0   R   0  9.0   0  9.0   0   8  \n",
      "201  ... NaN   0  8.0   R   0  9.0   0  9.0   0   8  \n",
      "205  ... NaN   0  8.0   R   0  9.0   0  9.0   0   8  \n",
      "206  ... NaN   0  8.0   R   0  9.0   0  9.0   0   8  \n",
      "214  ... NaN   0  8.0   R   0  9.0   0  9.0   0   8  \n",
      "215  ... NaN   0  8.0   R   0  9.0   0  9.0   0   8  \n",
      "216  ... NaN   0  8.0   R   0  9.0   0  9.0   0   8  \n",
      "226  ... NaN   0  8.0   R   0  9.0   0  9.0   0   8  \n",
      "227  ... NaN   0  8.0   R   0  9.0   0  9.0   0   8  \n",
      "229  ... NaN   0  8.0   R   0  9.0   0  9.0   0   8  \n",
      "230  ... NaN   0  8.0   R   0  9.0   0  9.0   0   8  \n",
      "\n",
      "[19 rows x 65 columns]\n"
     ]
    }
   ],
   "source": [
    "import pandas as pd\n",
    "import os\n",
    "from utils import col_names\n",
    "from functions import calc_hot_days\n",
    "\n",
    "directory = 'data\\src\\s_d_100_2022.csv'\n",
    "temp_threshold = 25\n",
    "df = pd.read_csv(directory, encoding=\"windows-1250\", sep=',', engine='c', header=None)\n",
    "print(calc_hot_days(df,temp_threshold))\n",
    "\n",
    "print((df[df[5]>temp_threshold]))\n"
   ]
  }
 ],
 "metadata": {
  "kernelspec": {
   "display_name": "Python 3",
   "language": "python",
   "name": "python3"
  },
  "language_info": {
   "codemirror_mode": {
    "name": "ipython",
    "version": 3
   },
   "file_extension": ".py",
   "mimetype": "text/x-python",
   "name": "python",
   "nbconvert_exporter": "python",
   "pygments_lexer": "ipython3",
   "version": "3.10.5"
  },
  "orig_nbformat": 4
 },
 "nbformat": 4,
 "nbformat_minor": 2
}
