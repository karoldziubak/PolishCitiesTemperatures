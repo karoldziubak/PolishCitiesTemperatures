{
 "cells": [
  {
   "cell_type": "code",
   "execution_count": 1,
   "metadata": {},
   "outputs": [],
   "source": [
    "import pandas as pd\n",
    "import os\n",
    "from utils import col_names\n",
    "from functions import calc_hot_days\n",
    "\n",
    "directory = 'data\\src\\s_d_100_2022.csv'\n",
    "temp_threshold = 25"
   ]
  },
  {
   "cell_type": "code",
   "execution_count": 2,
   "metadata": {},
   "outputs": [
    {
     "name": "stdout",
     "output_type": "stream",
     "text": [
      "[8.9, 10.9, 10.8, 7.0, 6.5, 3.9, 2.2, 1.5, 2.7, 1.9, 0.1, 2.2, 5.5, 6.3, 4.1, 4.1, 5.3, 4.3, 5.0, 4.2, 3.2, 3.4, 3.3, 5.1, 4.7, 4.3, 6.7, 5.3, 8.3, 8.3, 4.5, 2.7, 4.6, 5.1, 6.9, 6.7, 7.3, 4.4, 7.4, 9.3, 7.7, 4.5, 4.1, 5.1, 9.7, 7.8, 8.4, 10.0, 7.4, 8.5, 5.4, 9.4, 4.9, 6.0, 8.1, 8.3, 4.6, 4.9, 6.9, 6.4, 5.4, 5.0, 4.2, 2.9, 3.1, 5.1, 5.1, 3.8, 8.0, 7.6, 11.9, 13.3, 13.4, 7.4, 5.4, 9.7, 8.7, 5.6, 12.1, 14.0, 16.7, 8.1, 6.9, 11.4, 10.9, 12.2, 11.3, 6.5, 5.5, 4.1, 4.5, 3.6, 5.8, 7.1, 6.0, 10.3, 14.3, 9.3, 7.7, 6.7, 6.7, 8.3, 18.4, 15.6, 11.2, 7.0, 8.1, 7.3, 7.4, 7.7, 8.2, 10.0, 11.2, 8.0, 6.9, 10.4, 9.1, 9.3, 10.7, 14.2, 11.3, 12.3, 11.9, 16.1, 12.3, 12.7, 15.4, 12.8, 15.0, 23.3, 20.9, 15.3, 15.3, 14.9, 13.7, 15.0, 16.2, 18.5, 27.9, 24.3, 14.7, 14.0, 16.0, 16.6, 16.3, 15.7, 14.1, 13.0, 13.9, 15.3, 15.7, 14.2, 15.9, 16.0, 16.1, 20.2, 20.8, 20.7, 20.4, 24.7, 18.1, 24.8, 19.7, 19.2, 16.4, 18.0, 18.3, 19.6, 29.1, 20.7, 15.4, 17.7, 19.2, 20.1, 29.8, 27.2, 27.7, 33.9, 29.6, 21.6, 21.3, 20.1, 21.6, 26.1, 22.9, 20.6, 19.5, 19.1, 18.7, 18.9, 18.2, 19.8, 20.5, 23.5, 21.9, 18.5, 18.2, 18.6, 20.3, 22.6, 25.7, 33.5, 22.2, 19.8, 20.9, 31.2, 28.9, 18.8, 18.4, 22.4, 20.9, 21.1, 21.5, 21.7, 28.2, 34.6, 31.2, 19.1, 20.5, 20.8, 21.6, 21.5, 21.8, 22.1, 22.0, 21.2, 26.1, 25.1, 24.4, 29.8, 25.7, 21.0, 21.0, 21.4, 21.8, 21.6, 20.6, 19.0, 21.4, 19.7, 20.9, 20.5, 20.0, 18.4, 19.2, 19.4, 16.7, 18.9, 17.8, 22.3, 21.5, 19.2, 17.9, 14.8, 16.9, 18.0, 17.0, 16.0, 15.0, 15.1, 13.9, 15.9, 16.3, 15.5, 15.9, 15.9, 15.7, 16.4, 16.0, 14.2, 13.2, 14.3, 16.1, 14.5, 14.5, 14.6, 14.2, 17.5, 16.2, 17.5, 15.8, 13.4, 16.1, 13.2, 13.6, 15.5, 17.6, 15.6, 18.8, 21.2, 20.1, 13.7, 11.8, 13.0, 14.0, 15.3, 17.1, 15.1, 14.3, 17.2, 18.4, 16.9, 18.6, 13.1, 15.1, 13.6, 13.4, 12.1, 11.7, 11.2, 12.8, 15.0, 13.2, 12.9, 12.8, 12.8, 12.2, 11.2, 7.4, 7.6, 3.8, 3.5, 1.2, 0.3, 0.4, -0.4, 3.9, 4.4, 4.8, 5.1, 7.0, 5.5, 3.3, 3.6, 1.8, 4.0, 0.0, 1.8, 1.7, 2.6, 5.1, 2.9, -1.0, -0.4, -0.6, 3.3, 1.5, -1.3, -4.3, -2.3, -5.3, -4.8, 0.9, 5.5, 5.3, 6.8, 5.7, 3.9, 5.6, 8.3, 8.8, 6.3, 11.0, 8.5, 12.6]\n",
      "19\n",
      "5\n"
     ]
    }
   ],
   "source": [
    "df = pd.read_csv(directory, encoding=\"windows-1250\", sep=',', engine='c', header=None)\n",
    "df.columns = col_names\n",
    "temps = df.temp_max.to_list()\n",
    "print(temps)\n",
    "temps_above_threshold = [1 if t > temp_threshold else 0 for t in temps]\n",
    "print(sum(temps_above_threshold))\n",
    "temps_cumsum = [temps_above_threshold[0]]\n",
    "for i in range(1,len(temps_above_threshold)):\n",
    "    if temps_above_threshold[i]==0:\n",
    "        temps_cumsum.append(0)\n",
    "    elif temps_above_threshold[i]==1:\n",
    "        temps_cumsum.append(temps_cumsum[i-1]+1)\n",
    "        \n",
    "print(max(temps_cumsum))"
   ]
  },
  {
   "cell_type": "code",
   "execution_count": 4,
   "metadata": {},
   "outputs": [
    {
     "name": "stdout",
     "output_type": "stream",
     "text": [
      "5\n",
      "     station_code         station_name  year  month  day  temp_max   -  \\\n",
      "138     354150100  KOŁOBRZEG-DŹWIRZYNO  2022      5   19      27.9 NaN   \n",
      "168     354150100  KOŁOBRZEG-DŹWIRZYNO  2022      6   18      29.1 NaN   \n",
      "174     354150100  KOŁOBRZEG-DŹWIRZYNO  2022      6   24      29.8 NaN   \n",
      "175     354150100  KOŁOBRZEG-DŹWIRZYNO  2022      6   25      27.2 NaN   \n",
      "176     354150100  KOŁOBRZEG-DŹWIRZYNO  2022      6   26      27.7 NaN   \n",
      "177     354150100  KOŁOBRZEG-DŹWIRZYNO  2022      6   27      33.9 NaN   \n",
      "178     354150100  KOŁOBRZEG-DŹWIRZYNO  2022      6   28      29.6 NaN   \n",
      "183     354150100  KOŁOBRZEG-DŹWIRZYNO  2022      7    3      26.1 NaN   \n",
      "200     354150100  KOŁOBRZEG-DŹWIRZYNO  2022      7   20      25.7 NaN   \n",
      "201     354150100  KOŁOBRZEG-DŹWIRZYNO  2022      7   21      33.5 NaN   \n",
      "205     354150100  KOŁOBRZEG-DŹWIRZYNO  2022      7   25      31.2 NaN   \n",
      "206     354150100  KOŁOBRZEG-DŹWIRZYNO  2022      7   26      28.9 NaN   \n",
      "214     354150100  KOŁOBRZEG-DŹWIRZYNO  2022      8    3      28.2 NaN   \n",
      "215     354150100  KOŁOBRZEG-DŹWIRZYNO  2022      8    4      34.6 NaN   \n",
      "216     354150100  KOŁOBRZEG-DŹWIRZYNO  2022      8    5      31.2 NaN   \n",
      "226     354150100  KOŁOBRZEG-DŹWIRZYNO  2022      8   15      26.1 NaN   \n",
      "227     354150100  KOŁOBRZEG-DŹWIRZYNO  2022      8   16      25.1 NaN   \n",
      "229     354150100  KOŁOBRZEG-DŹWIRZYNO  2022      8   18      29.8 NaN   \n",
      "230     354150100  KOŁOBRZEG-DŹWIRZYNO  2022      8   19      25.7 NaN   \n",
      "\n",
      "     temp_min   -  temp_av  ...   -  -    -  -  -    -  -    -  -  -  \n",
      "138      13.1 NaN     20.7  ... NaN  0  8.0  R  0  9.0  0  9.0  0  8  \n",
      "168      16.0 NaN     19.8  ... NaN  0  8.0  R  0  9.0  0  9.0  0  8  \n",
      "174      13.1 NaN     22.6  ... NaN  0  8.0  R  0  9.0  0  9.0  0  8  \n",
      "175      17.7 NaN     21.6  ... NaN  0  8.0  R  0  9.0  0  9.0  0  8  \n",
      "176      19.3 NaN     23.0  ... NaN  0  8.0  R  0  9.0  0  9.0  0  8  \n",
      "177      20.3 NaN     27.4  ... NaN  0  8.0  R  0  9.0  0  9.0  0  8  \n",
      "178      17.6 NaN     18.8  ... NaN  0  8.0  R  0  9.0  0  9.0  0  8  \n",
      "183      13.1 NaN     20.1  ... NaN  0  8.0  R  0  9.0  0  9.0  0  8  \n",
      "200      14.9 NaN     21.4  ... NaN  0  8.0  R  0  9.0  0  9.0  0  8  \n",
      "201      21.0 NaN     25.1  ... NaN  0  8.0  R  0  9.0  0  9.0  0  8  \n",
      "205      15.9 NaN     23.8  ... NaN  0  8.0  R  0  9.0  0  9.0  0  8  \n",
      "206      16.6 NaN     18.7  ... NaN  0  8.0  R  0  9.0  0  9.0  0  8  \n",
      "214      16.3 NaN     22.5  ... NaN  0  8.0  R  0  9.0  0  9.0  0  8  \n",
      "215      19.0 NaN     27.6  ... NaN  0  8.0  R  0  9.0  0  9.0  0  8  \n",
      "216      18.5 NaN     21.8  ... NaN  0  8.0  R  0  9.0  0  9.0  0  8  \n",
      "226      17.7 NaN     20.5  ... NaN  0  8.0  R  0  9.0  0  9.0  0  8  \n",
      "227      17.5 NaN     21.5  ... NaN  0  8.0  R  0  9.0  0  9.0  0  8  \n",
      "229      18.9 NaN     22.5  ... NaN  0  8.0  R  0  9.0  0  9.0  0  8  \n",
      "230      17.6 NaN     20.5  ... NaN  0  8.0  R  0  9.0  0  9.0  0  8  \n",
      "\n",
      "[19 rows x 65 columns]\n"
     ]
    }
   ],
   "source": [
    "print(calc_hot_days(df,temp_threshold))\n",
    "\n",
    "print((df[df[\"temp_max\"]>temp_threshold]))"
   ]
  }
 ],
 "metadata": {
  "kernelspec": {
   "display_name": "Python 3",
   "language": "python",
   "name": "python3"
  },
  "language_info": {
   "codemirror_mode": {
    "name": "ipython",
    "version": 3
   },
   "file_extension": ".py",
   "mimetype": "text/x-python",
   "name": "python",
   "nbconvert_exporter": "python",
   "pygments_lexer": "ipython3",
   "version": "3.10.11"
  },
  "orig_nbformat": 4
 },
 "nbformat": 4,
 "nbformat_minor": 2
}
